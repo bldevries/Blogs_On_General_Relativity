{
 "cells": [
  {
   "cell_type": "markdown",
   "id": "42a6fd7a",
   "metadata": {},
   "source": [
    "# PART III: Calculating Geodesics on a 2-Sphere"
   ]
  },
  {
   "cell_type": "markdown",
   "id": "f5342db2",
   "metadata": {},
   "source": [
    "Now if we set this to zero we have the **equation for parallel transport** of a vector:"
   ]
  },
  {
   "cell_type": "markdown",
   "id": "d8b113eb",
   "metadata": {},
   "source": [
    "$$\n",
    "\\frac{\\partial V^{\\alpha}}{\\partial \\lambda} \\text{ } +\n",
    "\\frac{\\partial x^{\\mu}}{\\partial \\lambda} \\text{ } V^{\\nu} \\text{ } \\Gamma^{\\alpha}_{\\nu \\mu} \\text{ }\n",
    "= 0 \n",
    "$$"
   ]
  },
  {
   "cell_type": "markdown",
   "id": "e073bf67",
   "metadata": {},
   "source": [
    "Lets look at special curves that parallel transport their own speed vector $\\vec{U}$. The speed is defines as:"
   ]
  },
  {
   "cell_type": "markdown",
   "id": "b9090fc5",
   "metadata": {},
   "source": [
    "$$\n",
    "\\vec{U} = \\frac{\\partial x^{\\mu}}{\\partial \\lambda}\n",
    "$$"
   ]
  },
  {
   "cell_type": "markdown",
   "id": "7a45e8d9",
   "metadata": {},
   "source": [
    "And here $x^{\\mu}$ is a function of $\\lambda$ and represents the curve. Now if we assume the curve to parallel transport its speed vector we have:"
   ]
  },
  {
   "cell_type": "markdown",
   "id": "ac4db441",
   "metadata": {},
   "source": [
    "$$\n",
    "\\frac{\\partial U^{\\alpha}}{\\partial \\lambda} \\text{ } +\n",
    "\\frac{\\partial x^{\\mu}}{\\partial \\lambda} \\text{ } U^{\\nu} \\text{ } \\Gamma^{\\alpha}_{\\nu \\mu} \\text{ }\n",
    "=\n",
    "\\frac{\\partial^2 x^{\\alpha}}{\\partial \\lambda^2}+\n",
    "\\text{ } \\Gamma^{\\alpha}_{\\nu \\mu} \\text{ }\n",
    "\\frac{\\partial x^{\\mu}}{\\partial \\lambda} \\text{ } \n",
    "\\frac{\\partial x^{\\nu}}{\\partial \\lambda}\n",
    "= 0 \n",
    "$$"
   ]
  },
  {
   "cell_type": "markdown",
   "id": "f92af8e1",
   "metadata": {},
   "source": [
    "A curve that parallel transports it's own speed vector is called a **geodesic** and it obeys the **geodesic equation**:\n",
    "$$\n",
    "\\frac{\\partial^2 x^{\\alpha}}{\\partial \\lambda^2}+\n",
    "\\text{ } \\Gamma^{\\alpha}_{\\nu \\mu} \\text{ }\n",
    "\\frac{\\partial x^{\\mu}}{\\partial \\lambda} \\text{ } \n",
    "\\frac{\\partial x^{\\nu}}{\\partial \\lambda}\n",
    "= 0 \n",
    "$$"
   ]
  },
  {
   "cell_type": "markdown",
   "id": "06f3004e",
   "metadata": {},
   "source": [
    "This second order differential equation, when given an initial position and speed, gives a unique curve $x^{\\alpha}(\\lambda)$. In flat space the geodesic equation gives the equation of a straight line. I flat space $\\Gamma = 0$ and you get:\n",
    "$$\n",
    "\\frac{\\partial^2 x^{\\alpha}}{\\partial \\lambda^2} = 0\n",
    "$$\n",
    "which is the equation of a straight line, or in other words, the shortest distance between two points in flat space. You could thus say that the geodesic is a straight line in curved space :). And the geodesic is the shortest distance between two points (we will not prove that here, but you can read up on that here REFERENCE)"
   ]
  },
  {
   "cell_type": "markdown",
   "id": "23dedcea",
   "metadata": {},
   "source": [
    "So, if we want to parallel transport a vector $\\vec{V}$ we need to choose a curve and solve:"
   ]
  },
  {
   "cell_type": "markdown",
   "id": "634f5fbf",
   "metadata": {},
   "source": [
    "$$\n",
    "\\frac{\\partial V^{\\alpha}}{\\partial \\lambda} \\text{ } +\n",
    "\\frac{\\partial x^{\\mu}}{\\partial \\lambda} \\text{ } V^{\\nu} \\text{ } \\Gamma^{\\alpha}_{\\nu \\mu} \\text{ }\n",
    "= 0 \n",
    "$$"
   ]
  },
  {
   "cell_type": "markdown",
   "id": "caa02fcd",
   "metadata": {},
   "source": [
    "But to do this for our 2-sphere, we first need to calculate the Christoffel Symbols"
   ]
  },
  {
   "cell_type": "markdown",
   "id": "4f0cc834",
   "metadata": {},
   "source": [
    "Before we can continue and calculate parallel transport of geodesics, we need to calculate the $\\Gamma^{\\alpha}_{\\nu \\mu}$ symbols."
   ]
  },
  {
   "cell_type": "markdown",
   "id": "b0f403ff",
   "metadata": {},
   "source": [
    "$$\n",
    "\\Gamma^{\\alpha}_{\\nu \\mu} = \\left( \\frac{\\partial \\partial_{\\nu}}{\\partial x^{\\mu}} \\right)^{\\alpha}\n",
    "$$"
   ]
  },
  {
   "cell_type": "code",
   "execution_count": null,
   "id": "a8c8cbb8",
   "metadata": {},
   "outputs": [],
   "source": []
  }
 ],
 "metadata": {
  "kernelspec": {
   "display_name": "Python 3 (ipykernel)",
   "language": "python",
   "name": "python3"
  },
  "language_info": {
   "codemirror_mode": {
    "name": "ipython",
    "version": 3
   },
   "file_extension": ".py",
   "mimetype": "text/x-python",
   "name": "python",
   "nbconvert_exporter": "python",
   "pygments_lexer": "ipython3",
   "version": "3.9.16"
  }
 },
 "nbformat": 4,
 "nbformat_minor": 5
}
